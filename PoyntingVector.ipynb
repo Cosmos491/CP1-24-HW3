{
 "cells": [
  {
   "cell_type": "code",
   "execution_count": 4,
   "metadata": {},
   "outputs": [],
   "source": [
    "import numpy as np\n",
    "import sympy as sp\n",
    "import math"
   ]
  },
  {
   "cell_type": "code",
   "execution_count": 5,
   "metadata": {},
   "outputs": [],
   "source": [
    "def electric_field_expression(E_0, wave_vector, delta, f, polarisation):\n",
    "    t, x, y, z = sp.symbols('t x y z')\n",
    "    omega = 2 * sp.pi * f\n",
    "\n",
    "    r = sp.Matrix([x, y, z])\n",
    "    k = sp.Matrix(wave_vector)\n",
    "\n",
    "    norm_polarisation = np.linalg.norm(polarisation)\n",
    "    polarisation_normalised = list(map(lambda a: a / norm_polarisation, polarisation))\n",
    "\n",
    "    n_hat = sp.Matrix(polarisation_normalised)\n",
    "\n",
    "    k_dot_r = r.dot(k)\n",
    "\n",
    "    return E_0 * sp.cos(k_dot_r - omega * t + delta) * n_hat.T"
   ]
  },
  {
   "cell_type": "code",
   "execution_count": 6,
   "metadata": {},
   "outputs": [],
   "source": [
    "def magnetic_field_expression(E_0, wave_vector, delta, f, polarisation):\n",
    "    c, t, x, y, z = sp.symbols('c t x y z')\n",
    "    omega = 2 * sp.pi * f\n",
    "\n",
    "    r = sp.Matrix([x, y, z])\n",
    "    k = sp.Matrix(wave_vector)\n",
    "\n",
    "    norm_polarisation = np.linalg.norm(polarisation)\n",
    "    polarisation_normalised = list(map(lambda a: a / norm_polarisation, polarisation))\n",
    "    norm_k = np.linalg.norm(wave_vector)\n",
    "    k_normalised = list(map(lambda a: a / norm_k, wave_vector))\n",
    "    \n",
    "    n_hat = sp.Matrix(polarisation_normalised)\n",
    "    k_hat = sp.Matrix(k_normalised)\n",
    "\n",
    "    k_cross_n = k_hat.cross(n_hat)\n",
    "    k_dot_r = r.dot(k)\n",
    "\n",
    "    return (1/c) * E_0 * sp.cos(k_dot_r - omega * t + delta) * k_cross_n.T"
   ]
  },
  {
   "cell_type": "code",
   "execution_count": 7,
   "metadata": {},
   "outputs": [],
   "source": [
    "def poynting_vector_expression(E, B):\n",
    "    mu = sp.symbols('mu')\n",
    "    S = (1/mu) * E.cross(B)\n",
    "    return S"
   ]
  },
  {
   "cell_type": "code",
   "execution_count": 8,
   "metadata": {},
   "outputs": [],
   "source": [
    "def poynting_vector_value(E, B, position, time):\n",
    "    S = poynting_vector_expression(E, B)\n",
    "    return S.subs({'x': position[0], 'y': position[1], 'z': position[2], 't': time, 'c' : 299792458, 'mu' : 0.00000125663}).evalf()"
   ]
  },
  {
   "cell_type": "code",
   "execution_count": 9,
   "metadata": {},
   "outputs": [],
   "source": [
    "def poynting_vector_magnitude(S):\n",
    "    return math.sqrt(S[0] ** 2 + S[1] ** 2 + S[2] ** 2)"
   ]
  },
  {
   "cell_type": "code",
   "execution_count": 10,
   "metadata": {},
   "outputs": [],
   "source": [
    "E = electric_field_expression(5, [1, 0, 1], 0, 200, [0, 1, 1])\n",
    "B = magnetic_field_expression(5, [1, 0, 1], 0, 200, [0, 1, 1])\n",
    "S = poynting_vector_expression(E, B)\n",
    "Snum = poynting_vector_value(E, B, [1, 1, 1], 2)\n",
    "Smag = poynting_vector_magnitude(Snum)"
   ]
  },
  {
   "cell_type": "code",
   "execution_count": 11,
   "metadata": {},
   "outputs": [
    {
     "data": {
      "text/latex": [
       "$\\displaystyle \\left[\\begin{matrix}0 & 3.53553390593274 \\cos{\\left(- 400 \\pi t + x + z \\right)} & 3.53553390593274 \\cos{\\left(- 400 \\pi t + x + z \\right)}\\end{matrix}\\right]$"
      ],
      "text/plain": [
       "Matrix([[0, 3.53553390593274*cos(-400*pi*t + x + z), 3.53553390593274*cos(-400*pi*t + x + z)]])"
      ]
     },
     "execution_count": 11,
     "metadata": {},
     "output_type": "execute_result"
    }
   ],
   "source": [
    "E"
   ]
  },
  {
   "cell_type": "code",
   "execution_count": 12,
   "metadata": {},
   "outputs": [
    {
     "data": {
      "text/latex": [
       "$\\displaystyle \\left[\\begin{matrix}- \\frac{2.5 \\cos{\\left(- 400 \\pi t + x + z \\right)}}{c} & - \\frac{2.5 \\cos{\\left(- 400 \\pi t + x + z \\right)}}{c} & \\frac{2.5 \\cos{\\left(- 400 \\pi t + x + z \\right)}}{c}\\end{matrix}\\right]$"
      ],
      "text/plain": [
       "Matrix([[-2.5*cos(-400*pi*t + x + z)/c, -2.5*cos(-400*pi*t + x + z)/c, 2.5*cos(-400*pi*t + x + z)/c]])"
      ]
     },
     "execution_count": 12,
     "metadata": {},
     "output_type": "execute_result"
    }
   ],
   "source": [
    "B"
   ]
  },
  {
   "cell_type": "code",
   "execution_count": 13,
   "metadata": {},
   "outputs": [
    {
     "data": {
      "text/latex": [
       "$\\displaystyle \\left[\\begin{matrix}\\frac{17.6776695296637 \\cos^{2}{\\left(- 400 \\pi t + x + z \\right)}}{c \\mu} & - \\frac{8.83883476483184 \\cos^{2}{\\left(- 400 \\pi t + x + z \\right)}}{c \\mu} & \\frac{8.83883476483184 \\cos^{2}{\\left(- 400 \\pi t + x + z \\right)}}{c \\mu}\\end{matrix}\\right]$"
      ],
      "text/plain": [
       "Matrix([[17.6776695296637*cos(-400*pi*t + x + z)**2/(c*mu), -8.83883476483184*cos(-400*pi*t + x + z)**2/(c*mu), 8.83883476483184*cos(-400*pi*t + x + z)**2/(c*mu)]])"
      ]
     },
     "execution_count": 13,
     "metadata": {},
     "output_type": "execute_result"
    }
   ],
   "source": [
    "S"
   ]
  },
  {
   "cell_type": "code",
   "execution_count": 14,
   "metadata": {},
   "outputs": [
    {
     "data": {
      "text/latex": [
       "$\\displaystyle \\left[\\begin{matrix}0.00812624813699099 & -0.0040631240684955 & 0.0040631240684955\\end{matrix}\\right]$"
      ],
      "text/plain": [
       "Matrix([[0.00812624813699099, -0.0040631240684955, 0.0040631240684955]])"
      ]
     },
     "execution_count": 14,
     "metadata": {},
     "output_type": "execute_result"
    }
   ],
   "source": [
    "Snum"
   ]
  },
  {
   "cell_type": "code",
   "execution_count": 15,
   "metadata": {},
   "outputs": [
    {
     "data": {
      "text/plain": [
       "0.009952580729435173"
      ]
     },
     "execution_count": 15,
     "metadata": {},
     "output_type": "execute_result"
    }
   ],
   "source": [
    "Smag"
   ]
  },
  {
   "cell_type": "code",
   "execution_count": 16,
   "metadata": {},
   "outputs": [],
   "source": [
    "def main():\n",
    "    E_0 = float(input(\"Please enter the value of Electric Field amplitude (in V/m): \"))\n",
    "    kx = float(input(\"Please enter x-component of wave-vector kx (in radians/m): \"))\n",
    "    ky = float(input(\"Please enter y-component of wave-vector ky (in radians/m): \"))\n",
    "    kz = float(input(\"Please enter z-component of wave-vector kz (in radians/m): \"))\n",
    "    delta = float(input(\"Please enter the phase factor (in radians): \"))\n",
    "    f = float(input(\"Please enter frequency of the electromagnetic wave (in Hz): \"))\n",
    "    nx = float(input(\"Please enter x-component of polarisation: \"))\n",
    "    ny = float(input(\"Please enter y-component of polarisation: \"))\n",
    "    nz = float(input(\"Please enter z-component of polarisation: \"))\n",
    "    x = float(input(\"enter the x-coordinate of position (in m): \"))\n",
    "    y = float(input(\"enter the y-coordinate of position (in m): \"))\n",
    "    z = float(input(\"enter the z-coordinate of position (in m): \"))\n",
    "    time = float(input(\"Please enter time (in sec): \"))\n",
    "\n",
    "    E = electric_field_expression(E_0, [kx, ky, kz], delta, f, [nx, ny, nz]) \n",
    "    B = magnetic_field_expression(E_0, [kx, ky, kz], delta, f, [nx, ny, nz])\n",
    "    S = poynting_vector_expression(E, B)\n",
    "    Snum = poynting_vector_value(E, B, [x, y, z], time)\n",
    "    Smag = poynting_vector_magnitude(Snum)\n",
    "\n",
    "    print(\"Electric Field (in V/m): \", E)\n",
    "    print(\"Magnetic Field (in T): \", B)\n",
    "    print(\"Poynting Vector (in W/m^2): \", S, \" = \", Snum)\n",
    "    print(\"The magnitude of Poynting Vector (in W/m^2): \", Smag)"
   ]
  },
  {
   "cell_type": "code",
   "execution_count": 17,
   "metadata": {},
   "outputs": [
    {
     "ename": "NameError",
     "evalue": "name 'pprint' is not defined",
     "output_type": "error",
     "traceback": [
      "\u001b[0;31m---------------------------------------------------------------------------\u001b[0m",
      "\u001b[0;31mNameError\u001b[0m                                 Traceback (most recent call last)",
      "Cell \u001b[0;32mIn [17], line 1\u001b[0m\n\u001b[0;32m----> 1\u001b[0m \u001b[43mmain\u001b[49m\u001b[43m(\u001b[49m\u001b[43m)\u001b[49m\n",
      "Cell \u001b[0;32mIn [16], line 22\u001b[0m, in \u001b[0;36mmain\u001b[0;34m()\u001b[0m\n\u001b[1;32m     19\u001b[0m Snum \u001b[38;5;241m=\u001b[39m poynting_vector_value(E, B, [x, y, z], time)\n\u001b[1;32m     20\u001b[0m Smag \u001b[38;5;241m=\u001b[39m poynting_vector_magnitude(Snum)\n\u001b[0;32m---> 22\u001b[0m \u001b[43mpprint\u001b[49m(\u001b[38;5;124m\"\u001b[39m\u001b[38;5;124mElectric Field (in V/m): \u001b[39m\u001b[38;5;124m\"\u001b[39m, E)\n\u001b[1;32m     23\u001b[0m pprint(\u001b[38;5;124m\"\u001b[39m\u001b[38;5;124mMagnetic Field (in T): \u001b[39m\u001b[38;5;124m\"\u001b[39m, B)\n\u001b[1;32m     24\u001b[0m pprint(\u001b[38;5;124m\"\u001b[39m\u001b[38;5;124mPoynting Vector (in W/m^2): \u001b[39m\u001b[38;5;124m\"\u001b[39m, S, \u001b[38;5;124m\"\u001b[39m\u001b[38;5;124m = \u001b[39m\u001b[38;5;124m\"\u001b[39m, Snum)\n",
      "\u001b[0;31mNameError\u001b[0m: name 'pprint' is not defined"
     ]
    }
   ],
   "source": [
    "main()"
   ]
  },
  {
   "cell_type": "code",
   "execution_count": null,
   "metadata": {},
   "outputs": [],
   "source": []
  }
 ],
 "metadata": {
  "kernelspec": {
   "display_name": "Python 3",
   "language": "python",
   "name": "python3"
  },
  "language_info": {
   "codemirror_mode": {
    "name": "ipython",
    "version": 3
   },
   "file_extension": ".py",
   "mimetype": "text/x-python",
   "name": "python",
   "nbconvert_exporter": "python",
   "pygments_lexer": "ipython3",
   "version": "3.11.2"
  }
 },
 "nbformat": 4,
 "nbformat_minor": 2
}
